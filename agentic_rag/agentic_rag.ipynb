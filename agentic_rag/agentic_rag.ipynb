{
 "cells": [
  {
   "cell_type": "markdown",
   "metadata": {},
   "source": [
    "# Install Deps"
   ]
  },
  {
   "cell_type": "code",
   "execution_count": 510,
   "metadata": {},
   "outputs": [],
   "source": [
    "%%capture --no-stderr\n",
    "%pip install -U --quiet langchain-community tiktoken langchain-openai langchainhub chromadb langchain langgraph langchain-text-splitters beautifulsoup4"
   ]
  },
  {
   "cell_type": "markdown",
   "metadata": {},
   "source": [
    "# Set API Key"
   ]
  },
  {
   "cell_type": "code",
   "execution_count": 511,
   "metadata": {},
   "outputs": [],
   "source": [
    "import getpass\n",
    "import os\n",
    "\n",
    "def _set_env(key: str):\n",
    "    if key not in os.environ:\n",
    "        os.environ[key] = getpass.getpass(f\"{key}:\")\n",
    "\n",
    "_set_env(\"OPENAI_API_KEY\")"
   ]
  },
  {
   "cell_type": "markdown",
   "metadata": {},
   "source": [
    "# Index 3 Blog Articles"
   ]
  },
  {
   "cell_type": "code",
   "execution_count": 512,
   "metadata": {},
   "outputs": [],
   "source": [
    "from langchain_community.document_loaders import WebBaseLoader\n",
    "from langchain_community.vectorstores import Chroma\n",
    "from langchain_openai import OpenAIEmbeddings\n",
    "from langchain_text_splitters import RecursiveCharacterTextSplitter\n",
    "\n",
    "urls = [\n",
    "    \"https://lilianweng.github.io/posts/2023-06-23-agent/\",\n",
    "    \"https://lilianweng.github.io/posts/2023-03-15-prompt-engineering/\",\n",
    "    \"https://lilianweng.github.io/posts/2023-10-25-adv-attack-llm/\",\n",
    "]\n",
    "\n",
    "docs = [WebBaseLoader(url).load() for url in urls]\n",
    "docs_list = [item for sublist in docs for item in sublist]\n",
    "\n",
    "text_splitter = RecursiveCharacterTextSplitter.from_tiktoken_encoder(\n",
    "    chunk_size=100, chunk_overlap=50\n",
    ")\n",
    "doc_splits = text_splitter.split_documents(docs_list)\n",
    "\n",
    "# Add to vectorDB\n",
    "vectorstore = Chroma.from_documents(\n",
    "    documents=doc_splits,\n",
    "    collection_name=\"rag-chroma\",\n",
    "    embedding=OpenAIEmbeddings(),\n",
    ")\n",
    "retriever = vectorstore.as_retriever()"
   ]
  },
  {
   "cell_type": "markdown",
   "metadata": {},
   "source": [
    "# Create Retriever"
   ]
  },
  {
   "cell_type": "code",
   "execution_count": 513,
   "metadata": {},
   "outputs": [],
   "source": [
    "from langchain.tools.retriever import create_retriever_tool\n",
    "\n",
    "retriever_tool = create_retriever_tool(\n",
    "    retriever,\n",
    "    \"retrieve_blog_posts\",\n",
    "    \"Search and return information about Lilian Weng's blog posts on LLM agents, prompt engineering, and adversarial attacks on LLMs. Keep all query parameters as simple as possible.\",\n",
    ")\n",
    "\n",
    "tools = [retriever_tool]"
   ]
  },
  {
   "cell_type": "markdown",
   "metadata": {},
   "source": [
    "# Configure Agent State"
   ]
  },
  {
   "cell_type": "code",
   "execution_count": 514,
   "metadata": {},
   "outputs": [],
   "source": [
    "from typing import Annotated, Sequence, TypedDict\n",
    "\n",
    "from langchain_core.messages import BaseMessage\n",
    "\n",
    "from langgraph.graph.message import add_messages\n",
    "\n",
    "class AgentState(TypedDict):\n",
    "    # The add_messages function defines how an update should be processed\n",
    "    # Default is to replace. add_messages says \"append\"\n",
    "    messages: Annotated[Sequence[BaseMessage], add_messages]"
   ]
  },
  {
   "cell_type": "markdown",
   "metadata": {},
   "source": [
    "# Configure Nodes & Edges"
   ]
  },
  {
   "cell_type": "code",
   "execution_count": 515,
   "metadata": {},
   "outputs": [
    {
     "name": "stdout",
     "output_type": "stream",
     "text": [
      "********************Prompt[rlm/rag-prompt]********************\n"
     ]
    },
    {
     "name": "stderr",
     "output_type": "stream",
     "text": [
      "c:\\Users\\juanhart\\Code\\ai-gbb-learning-shop\\.conda\\Lib\\site-packages\\langsmith\\client.py:256: LangSmithMissingAPIKeyWarning: API key must be provided when using hosted LangSmith API\n",
      "  warnings.warn(\n"
     ]
    },
    {
     "name": "stdout",
     "output_type": "stream",
     "text": [
      "================================\u001b[1m Human Message \u001b[0m=================================\n",
      "\n",
      "You are an assistant for question-answering tasks. Use the following pieces of retrieved context to answer the question. If you don't know the answer, just say that you don't know. Use three sentences maximum and keep the answer concise.\n",
      "Question: \u001b[33;1m\u001b[1;3m{question}\u001b[0m \n",
      "Context: \u001b[33;1m\u001b[1;3m{context}\u001b[0m \n",
      "Answer:\n"
     ]
    }
   ],
   "source": [
    "from typing import Annotated, Literal, Sequence, TypedDict\n",
    "\n",
    "from langchain import hub\n",
    "from langchain_core.messages import BaseMessage, HumanMessage, RemoveMessage\n",
    "from langchain_core.output_parsers import StrOutputParser\n",
    "from langchain_core.prompts import PromptTemplate\n",
    "# from langchain_core.pydantic_v1 import BaseModel, Field\n",
    "from pydantic import BaseModel, Field\n",
    "from langchain_openai import ChatOpenAI\n",
    "\n",
    "from langgraph.prebuilt import tools_condition\n",
    "\n",
    "### Edges\n",
    "\n",
    "\n",
    "def grade_documents(state) -> Literal[\"generate\", \"rewrite\"]:\n",
    "    \"\"\"\n",
    "    Determines whether the retrieved documents are relevant to the question.\n",
    "\n",
    "    Args:\n",
    "        state (messages): The current state\n",
    "\n",
    "    Returns:\n",
    "        str: A decision for whether the documents are relevant or not\n",
    "    \"\"\"\n",
    "\n",
    "    print(\"---GRADING DOCUMENTS---\")\n",
    "\n",
    "    # Data model\n",
    "    class grade(BaseModel):\n",
    "        \"\"\"Binary score for relevance check.\"\"\"\n",
    "\n",
    "        binary_score: str = Field(description=\"Relevance score 'yes' or 'no'\")\n",
    "\n",
    "    # LLM\n",
    "    model = ChatOpenAI(temperature=0, model=\"gpt-4o-mini\", streaming=True)\n",
    "\n",
    "    # LLM with tool and validation\n",
    "    llm_with_tool = model.with_structured_output(grade)\n",
    "\n",
    "    # Prompt\n",
    "    prompt = PromptTemplate(\n",
    "        template=\"\"\"You are a grader that assesses the relevance of retrieved documentation to a user question. \\n \n",
    "        Here is the retrieved document: \\n\\n {context} \\n\\n\n",
    "        Here is the user question: {question} \\n\n",
    "        Only if the retrieved document contains information to answer the user question or contains words similar to that in the user question, grade it as relevant. \\n\n",
    "        Think twice before issuing final grade or score. \\n\n",
    "        Give a binary score 'yes' or 'no' score to indicate whether the document is relevant to the user question.\"\"\",\n",
    "        input_variables=[\"context\", \"question\"],\n",
    "    )\n",
    "\n",
    "    # Chain\n",
    "    chain = prompt | llm_with_tool\n",
    "\n",
    "    messages = state[\"messages\"]\n",
    "    last_message = messages[-1]\n",
    "\n",
    "    question = messages[0].content\n",
    "    docs = last_message.content\n",
    "\n",
    "    scored_result = chain.invoke({\"question\": question, \"context\": docs})\n",
    "\n",
    "    score = scored_result.binary_score\n",
    "\n",
    "    if score == \"yes\":\n",
    "        print(\"---DECISION: DOCS RELEVANT---\")\n",
    "        return \"generate\"\n",
    "\n",
    "    else:\n",
    "        print(\"---DECISION: DOCS NOT RELEVANT---\")\n",
    "        return \"rewrite\"\n",
    "\n",
    "\n",
    "### Nodes\n",
    "\n",
    "def agent(state):\n",
    "    \"\"\"\n",
    "    Invokes the agent model to generate a response based on the current state. Given\n",
    "    the question, it will decide to retrieve using the retriever tool, or simply end.\n",
    "\n",
    "    Args:\n",
    "        state (messages): The current state\n",
    "\n",
    "    Returns:\n",
    "        dict: The updated state with the agent response appended to messages\n",
    "    \"\"\"\n",
    "    print(\"---AGENT---\")\n",
    "    messages = state[\"messages\"]\n",
    "    print(\"---AGENT STATE---\")\n",
    "    print(messages)\n",
    "    model = ChatOpenAI(temperature=0, streaming=True, model=\"gpt-4o\")\n",
    "    model = model.bind_tools(tools)\n",
    "    response = model.invoke(messages)\n",
    "    print(\"---Agent Response---\")\n",
    "    print(response)\n",
    "    # We return a list, because this will get added to the existing list\n",
    "    return {\"messages\": [response]}\n",
    "\n",
    "def rewrite(state):\n",
    "    \"\"\"\n",
    "    Transform the query to produce a better question.\n",
    "\n",
    "    Args:\n",
    "        state (messages): The current state\n",
    "\n",
    "    Returns:\n",
    "        dict: The updated state with re-phrased question\n",
    "    \"\"\"\n",
    "\n",
    "    print(\"---REWRITE---\")\n",
    "    messages = state[\"messages\"]\n",
    "    print(\"---Messages---\")\n",
    "    print(messages)\n",
    "    question = messages[0].content\n",
    "\n",
    "    msg = [\n",
    "        HumanMessage(\n",
    "            content=f\"\"\" \\n \n",
    "    Look at the input and try to reason about the underlying semantic intent / meaning. \\n \n",
    "    Here is the initial question:\n",
    "    \\n ------- \\n\n",
    "    {question} \n",
    "    \\n ------- \\n\n",
    "    Formulate an improved question: \"\"\",\n",
    "        )\n",
    "    ]\n",
    "\n",
    "    # Grader\n",
    "    model = ChatOpenAI(temperature=0, model=\"gpt-4-0125-preview\", streaming=True)\n",
    "    response = model.invoke(msg)\n",
    "    humanResponse = HumanMessage(content=response.content)\n",
    "    return {\"messages\": humanResponse}\n",
    "\n",
    "\n",
    "def generate(state):\n",
    "    \"\"\"\n",
    "    Generate answer\n",
    "\n",
    "    Args:\n",
    "        state (messages): The current state\n",
    "\n",
    "    Returns:\n",
    "         dict: The updated state with re-phrased question\n",
    "    \"\"\"\n",
    "    print(\"---GENERATE---\")\n",
    "    print(\"--- MESSAGE STATE ---\")\n",
    "    messages = state[\"messages\"]\n",
    "    print(messages)\n",
    "    question = messages[0].content\n",
    "    last_message = messages[-1]\n",
    "\n",
    "    docs = last_message.content\n",
    "\n",
    "    # Prompt\n",
    "    prompt = hub.pull(\"rlm/rag-prompt\")\n",
    "\n",
    "    # LLM\n",
    "    llm = ChatOpenAI(model_name=\"gpt-4o-mini\", temperature=0, streaming=True)\n",
    "\n",
    "    # Post-processing\n",
    "    def format_docs(docs):\n",
    "        return \"\\n\\n\".join(doc.page_content for doc in docs)\n",
    "\n",
    "    # Chain\n",
    "    rag_chain = prompt | llm | StrOutputParser()\n",
    "\n",
    "    # Run\n",
    "    response = rag_chain.invoke({\"context\": docs, \"question\": question})\n",
    "    return {\"messages\": [response]}\n",
    "\n",
    "def delete_messages(state):\n",
    "    messages = state[\"messages\"]\n",
    "    print(\"---DELETE MESSAGES---\")\n",
    "    print(messages)\n",
    "    return {\"messages\": [RemoveMessage(id=m.id) for m in messages[:-1]]}\n",
    "\n",
    "\n",
    "print(\"*\" * 20 + \"Prompt[rlm/rag-prompt]\" + \"*\" * 20)\n",
    "prompt = hub.pull(\"rlm/rag-prompt\").pretty_print()  # Show what the prompt looks like"
   ]
  },
  {
   "cell_type": "markdown",
   "metadata": {},
   "source": [
    "# Construct Graph"
   ]
  },
  {
   "cell_type": "code",
   "execution_count": 516,
   "metadata": {},
   "outputs": [],
   "source": [
    "from langgraph.graph import END, StateGraph, START\n",
    "from langgraph.prebuilt import ToolNode\n",
    "\n",
    "# Define a new graph\n",
    "workflow = StateGraph(AgentState)\n",
    "\n",
    "# Define the nodes we will cycle between\n",
    "workflow.add_node(\"agent\", agent)  # agent\n",
    "retrieve = ToolNode([retriever_tool]) # retrieval tool node\n",
    "workflow.add_node(\"retrieve\", retrieve)  # retrieval no\n",
    "workflow.add_node(\"rewrite\", rewrite)  # Re-writing the question\n",
    "workflow.add_node(\"generate\", generate)  # Generating a response after we know the documents are relevant\n",
    "workflow.add_node(\"delete_messages\", delete_messages)  # Delete messages\n",
    "# Call agent node to decide to retrieve or not\n",
    "workflow.add_edge(START, \"agent\")\n",
    "\n",
    "# Decide whether to retrieve\n",
    "workflow.add_conditional_edges(\n",
    "    \"agent\",\n",
    "    # Assess agent decision\n",
    "    tools_condition,\n",
    "    {\n",
    "        \"tools\": \"retrieve\",\n",
    "        END: END,\n",
    "    },\n",
    ")\n",
    "\n",
    "# Edges taken after the `action` node is called.\n",
    "workflow.add_conditional_edges(\n",
    "    \"retrieve\",\n",
    "    # Assess agent decision\n",
    "    grade_documents,\n",
    ")\n",
    "workflow.add_edge(\"rewrite\", \"delete_messages\")\n",
    "workflow.add_edge(\"delete_messages\", \"agent\")\n",
    "workflow.add_edge(\"generate\", END)\n",
    "\n",
    "# Compile\n",
    "graph = workflow.compile()"
   ]
  },
  {
   "cell_type": "markdown",
   "metadata": {},
   "source": [
    "# Create Visual of Graph"
   ]
  },
  {
   "cell_type": "code",
   "execution_count": 517,
   "metadata": {},
   "outputs": [
    {
     "data": {
      "image/png": "[encoded data removed]",
      "text/plain": [
       "<IPython.core.display.Image object>"
      ]
     },
     "metadata": {},
     "output_type": "display_data"
    }
   ],
   "source": [
    "from IPython.display import Image, display\n",
    "\n",
    "try:\n",
    "    display(Image(graph.get_graph(xray=True).draw_mermaid_png()))\n",
    "except Exception:\n",
    "    # This requires some extra dependencies and is optional\n",
    "    pass"
   ]
  },
  {
   "cell_type": "markdown",
   "metadata": {},
   "source": [
    "# Invoke Agent/Graph with Prompt"
   ]
  },
  {
   "cell_type": "code",
   "execution_count": 524,
   "metadata": {},
   "outputs": [
    {
     "name": "stdout",
     "output_type": "stream",
     "text": [
      "---AGENT---\n",
      "---AGENT STATE---\n",
      "[HumanMessage(content='What are some prompt engineering strategies outlined by Lilian Weng?', additional_kwargs={}, response_metadata={}, id='7f8dd458-0d8d-43b6-abec-2a5697eb6dd4')]\n",
      "---Agent Response---\n",
      "content='' additional_kwargs={'tool_calls': [{'index': 0, 'id': 'call_POafA5zEUFuOD0bfNWXVW2Nl', 'function': {'arguments': '{\"query\":\"prompt engineering strategies\"}', 'name': 'retrieve_blog_posts'}, 'type': 'function'}]} response_metadata={'finish_reason': 'tool_calls', 'model_name': 'gpt-4o-2024-08-06', 'system_fingerprint': 'fp_4691090a87'} id='run-c5c05fbf-d3eb-4acd-a199-cbf4686b5133-0' tool_calls=[{'name': 'retrieve_blog_posts', 'args': {'query': 'prompt engineering strategies'}, 'id': 'call_POafA5zEUFuOD0bfNWXVW2Nl', 'type': 'tool_call'}]\n",
      "\"Output from node 'agent':\"\n",
      "'---'\n",
      "{ 'messages': [ AIMessage(content='', additional_kwargs={'tool_calls': [{'index': 0, 'id': 'call_POafA5zEUFuOD0bfNWXVW2Nl', 'function': {'arguments': '{\"query\":\"prompt engineering strategies\"}', 'name': 'retrieve_blog_posts'}, 'type': 'function'}]}, response_metadata={'finish_reason': 'tool_calls', 'model_name': 'gpt-4o-2024-08-06', 'system_fingerprint': 'fp_4691090a87'}, id='run-c5c05fbf-d3eb-4acd-a199-cbf4686b5133-0', tool_calls=[{'name': 'retrieve_blog_posts', 'args': {'query': 'prompt engineering strategies'}, 'id': 'call_POafA5zEUFuOD0bfNWXVW2Nl', 'type': 'tool_call'}])]}\n",
      "'\\n---\\n'\n",
      "---GRADING DOCUMENTS---\n",
      "---DECISION: DOCS NOT RELEVANT---\n",
      "\"Output from node 'retrieve':\"\n",
      "'---'\n",
      "{ 'messages': [ ToolMessage(content='Prompt Engineering, also known as In-Context Prompting, refers to methods for how to communicate with LLM to steer its behavior for desired outcomes without updating the model weights. It is an empirical science and the effect of prompt engineering methods can vary a lot among models, thus requiring heavy experimentation and heuristics.\\n\\nPrompt Engineering, also known as In-Context Prompting, refers to methods for how to communicate with LLM to steer its behavior for desired outcomes without updating the model weights. It is an empirical science and the effect of prompt engineering methods can vary a lot among models, thus requiring heavy experimentation and heuristics.\\n\\nPrompt Engineering, also known as In-Context Prompting, refers to methods for how to communicate with LLM to steer its behavior for desired outcomes without updating the model weights. It is an empirical science and the effect of prompt engineering methods can vary a lot among models, thus requiring heavy experimentation and heuristics.\\n\\nPrompt Engineering, also known as In-Context Prompting, refers to methods for how to communicate with LLM to steer its behavior for desired outcomes without updating the model weights. It is an empirical science and the effect of prompt engineering methods can vary a lot among models, thus requiring heavy experimentation and heuristics.', name='retrieve_blog_posts', id='ab44ad1f-6455-474a-a61b-39a394fc0ac6', tool_call_id='call_POafA5zEUFuOD0bfNWXVW2Nl')]}\n",
      "'\\n---\\n'\n",
      "---REWRITE---\n",
      "---Messages---\n",
      "[HumanMessage(content='What are some prompt engineering strategies outlined by Lilian Weng?', additional_kwargs={}, response_metadata={}, id='7f8dd458-0d8d-43b6-abec-2a5697eb6dd4'), AIMessage(content='', additional_kwargs={'tool_calls': [{'index': 0, 'id': 'call_POafA5zEUFuOD0bfNWXVW2Nl', 'function': {'arguments': '{\"query\":\"prompt engineering strategies\"}', 'name': 'retrieve_blog_posts'}, 'type': 'function'}]}, response_metadata={'finish_reason': 'tool_calls', 'model_name': 'gpt-4o-2024-08-06', 'system_fingerprint': 'fp_4691090a87'}, id='run-c5c05fbf-d3eb-4acd-a199-cbf4686b5133-0', tool_calls=[{'name': 'retrieve_blog_posts', 'args': {'query': 'prompt engineering strategies'}, 'id': 'call_POafA5zEUFuOD0bfNWXVW2Nl', 'type': 'tool_call'}]), ToolMessage(content='Prompt Engineering, also known as In-Context Prompting, refers to methods for how to communicate with LLM to steer its behavior for desired outcomes without updating the model weights. It is an empirical science and the effect of prompt engineering methods can vary a lot among models, thus requiring heavy experimentation and heuristics.\\n\\nPrompt Engineering, also known as In-Context Prompting, refers to methods for how to communicate with LLM to steer its behavior for desired outcomes without updating the model weights. It is an empirical science and the effect of prompt engineering methods can vary a lot among models, thus requiring heavy experimentation and heuristics.\\n\\nPrompt Engineering, also known as In-Context Prompting, refers to methods for how to communicate with LLM to steer its behavior for desired outcomes without updating the model weights. It is an empirical science and the effect of prompt engineering methods can vary a lot among models, thus requiring heavy experimentation and heuristics.\\n\\nPrompt Engineering, also known as In-Context Prompting, refers to methods for how to communicate with LLM to steer its behavior for desired outcomes without updating the model weights. It is an empirical science and the effect of prompt engineering methods can vary a lot among models, thus requiring heavy experimentation and heuristics.', name='retrieve_blog_posts', id='ab44ad1f-6455-474a-a61b-39a394fc0ac6', tool_call_id='call_POafA5zEUFuOD0bfNWXVW2Nl')]\n",
      "\"Output from node 'rewrite':\"\n",
      "'---'\n",
      "{ 'messages': HumanMessage(content='What are the prompt engineering strategies proposed by Lilian Weng for improving AI model responses?', additional_kwargs={}, response_metadata={}, id='73204acc-b0a5-4858-917d-1fabd78334f4')}\n",
      "'\\n---\\n'\n",
      "---DELETE MESSAGES---\n",
      "[HumanMessage(content='What are some prompt engineering strategies outlined by Lilian Weng?', additional_kwargs={}, response_metadata={}, id='7f8dd458-0d8d-43b6-abec-2a5697eb6dd4'), AIMessage(content='', additional_kwargs={'tool_calls': [{'index': 0, 'id': 'call_POafA5zEUFuOD0bfNWXVW2Nl', 'function': {'arguments': '{\"query\":\"prompt engineering strategies\"}', 'name': 'retrieve_blog_posts'}, 'type': 'function'}]}, response_metadata={'finish_reason': 'tool_calls', 'model_name': 'gpt-4o-2024-08-06', 'system_fingerprint': 'fp_4691090a87'}, id='run-c5c05fbf-d3eb-4acd-a199-cbf4686b5133-0', tool_calls=[{'name': 'retrieve_blog_posts', 'args': {'query': 'prompt engineering strategies'}, 'id': 'call_POafA5zEUFuOD0bfNWXVW2Nl', 'type': 'tool_call'}]), ToolMessage(content='Prompt Engineering, also known as In-Context Prompting, refers to methods for how to communicate with LLM to steer its behavior for desired outcomes without updating the model weights. It is an empirical science and the effect of prompt engineering methods can vary a lot among models, thus requiring heavy experimentation and heuristics.\\n\\nPrompt Engineering, also known as In-Context Prompting, refers to methods for how to communicate with LLM to steer its behavior for desired outcomes without updating the model weights. It is an empirical science and the effect of prompt engineering methods can vary a lot among models, thus requiring heavy experimentation and heuristics.\\n\\nPrompt Engineering, also known as In-Context Prompting, refers to methods for how to communicate with LLM to steer its behavior for desired outcomes without updating the model weights. It is an empirical science and the effect of prompt engineering methods can vary a lot among models, thus requiring heavy experimentation and heuristics.\\n\\nPrompt Engineering, also known as In-Context Prompting, refers to methods for how to communicate with LLM to steer its behavior for desired outcomes without updating the model weights. It is an empirical science and the effect of prompt engineering methods can vary a lot among models, thus requiring heavy experimentation and heuristics.', name='retrieve_blog_posts', id='ab44ad1f-6455-474a-a61b-39a394fc0ac6', tool_call_id='call_POafA5zEUFuOD0bfNWXVW2Nl'), HumanMessage(content='What are the prompt engineering strategies proposed by Lilian Weng for improving AI model responses?', additional_kwargs={}, response_metadata={}, id='73204acc-b0a5-4858-917d-1fabd78334f4')]\n",
      "\"Output from node 'delete_messages':\"\n",
      "'---'\n",
      "{ 'messages': [ RemoveMessage(content='', additional_kwargs={}, response_metadata={}, id='7f8dd458-0d8d-43b6-abec-2a5697eb6dd4'),\n",
      "                RemoveMessage(content='', additional_kwargs={}, response_metadata={}, id='run-c5c05fbf-d3eb-4acd-a199-cbf4686b5133-0'),\n",
      "                RemoveMessage(content='', additional_kwargs={}, response_metadata={}, id='ab44ad1f-6455-474a-a61b-39a394fc0ac6')]}\n",
      "'\\n---\\n'\n",
      "---AGENT---\n",
      "---AGENT STATE---\n",
      "[HumanMessage(content='What are the prompt engineering strategies proposed by Lilian Weng for improving AI model responses?', additional_kwargs={}, response_metadata={}, id='73204acc-b0a5-4858-917d-1fabd78334f4')]\n",
      "---Agent Response---\n",
      "content='' additional_kwargs={'tool_calls': [{'index': 0, 'id': 'call_2tBOlKMOkuF82wDUFArR2G5y', 'function': {'arguments': '{\"query\":\"prompt engineering strategies Lilian Weng\"}', 'name': 'retrieve_blog_posts'}, 'type': 'function'}]} response_metadata={'finish_reason': 'tool_calls', 'model_name': 'gpt-4o-2024-08-06', 'system_fingerprint': 'fp_50cad350e4'} id='run-5a6921f2-eea1-451f-b781-82b49577833e-0' tool_calls=[{'name': 'retrieve_blog_posts', 'args': {'query': 'prompt engineering strategies Lilian Weng'}, 'id': 'call_2tBOlKMOkuF82wDUFArR2G5y', 'type': 'tool_call'}]\n",
      "\"Output from node 'agent':\"\n",
      "'---'\n",
      "{ 'messages': [ AIMessage(content='', additional_kwargs={'tool_calls': [{'index': 0, 'id': 'call_2tBOlKMOkuF82wDUFArR2G5y', 'function': {'arguments': '{\"query\":\"prompt engineering strategies Lilian Weng\"}', 'name': 'retrieve_blog_posts'}, 'type': 'function'}]}, response_metadata={'finish_reason': 'tool_calls', 'model_name': 'gpt-4o-2024-08-06', 'system_fingerprint': 'fp_50cad350e4'}, id='run-5a6921f2-eea1-451f-b781-82b49577833e-0', tool_calls=[{'name': 'retrieve_blog_posts', 'args': {'query': 'prompt engineering strategies Lilian Weng'}, 'id': 'call_2tBOlKMOkuF82wDUFArR2G5y', 'type': 'tool_call'}])]}\n",
      "'\\n---\\n'\n",
      "---GRADING DOCUMENTS---\n",
      "---DECISION: DOCS RELEVANT---\n",
      "\"Output from node 'retrieve':\"\n",
      "'---'\n",
      "{ 'messages': [ ToolMessage(content='Weng, Lilian. (Mar 2023). Prompt Engineering. Lil’Log. https://lilianweng.github.io/posts/2023-03-15-prompt-engineering/.\\n\\nWeng, Lilian. (Mar 2023). Prompt Engineering. Lil’Log. https://lilianweng.github.io/posts/2023-03-15-prompt-engineering/.\\n\\nWeng, Lilian. (Mar 2023). Prompt Engineering. Lil’Log. https://lilianweng.github.io/posts/2023-03-15-prompt-engineering/.\\n\\nWeng, Lilian. (Mar 2023). Prompt Engineering. Lil’Log. https://lilianweng.github.io/posts/2023-03-15-prompt-engineering/.', name='retrieve_blog_posts', id='62d2ecb8-9115-43bb-bebb-2b78137f9e66', tool_call_id='call_2tBOlKMOkuF82wDUFArR2G5y')]}\n",
      "'\\n---\\n'\n",
      "---GENERATE---\n",
      "--- MESSAGE STATE ---\n",
      "[HumanMessage(content='What are the prompt engineering strategies proposed by Lilian Weng for improving AI model responses?', additional_kwargs={}, response_metadata={}, id='73204acc-b0a5-4858-917d-1fabd78334f4'), AIMessage(content='', additional_kwargs={'tool_calls': [{'index': 0, 'id': 'call_2tBOlKMOkuF82wDUFArR2G5y', 'function': {'arguments': '{\"query\":\"prompt engineering strategies Lilian Weng\"}', 'name': 'retrieve_blog_posts'}, 'type': 'function'}]}, response_metadata={'finish_reason': 'tool_calls', 'model_name': 'gpt-4o-2024-08-06', 'system_fingerprint': 'fp_50cad350e4'}, id='run-5a6921f2-eea1-451f-b781-82b49577833e-0', tool_calls=[{'name': 'retrieve_blog_posts', 'args': {'query': 'prompt engineering strategies Lilian Weng'}, 'id': 'call_2tBOlKMOkuF82wDUFArR2G5y', 'type': 'tool_call'}]), ToolMessage(content='Weng, Lilian. (Mar 2023). Prompt Engineering. Lil’Log. https://lilianweng.github.io/posts/2023-03-15-prompt-engineering/.\\n\\nWeng, Lilian. (Mar 2023). Prompt Engineering. Lil’Log. https://lilianweng.github.io/posts/2023-03-15-prompt-engineering/.\\n\\nWeng, Lilian. (Mar 2023). Prompt Engineering. Lil’Log. https://lilianweng.github.io/posts/2023-03-15-prompt-engineering/.\\n\\nWeng, Lilian. (Mar 2023). Prompt Engineering. Lil’Log. https://lilianweng.github.io/posts/2023-03-15-prompt-engineering/.', name='retrieve_blog_posts', id='62d2ecb8-9115-43bb-bebb-2b78137f9e66', tool_call_id='call_2tBOlKMOkuF82wDUFArR2G5y')]\n"
     ]
    },
    {
     "name": "stderr",
     "output_type": "stream",
     "text": [
      "c:\\Users\\juanhart\\Code\\ai-gbb-learning-shop\\.conda\\Lib\\site-packages\\langsmith\\client.py:256: LangSmithMissingAPIKeyWarning: API key must be provided when using hosted LangSmith API\n",
      "  warnings.warn(\n"
     ]
    },
    {
     "name": "stdout",
     "output_type": "stream",
     "text": [
      "\"Output from node 'generate':\"\n",
      "'---'\n",
      "{'messages': [\"I don't know.\"]}\n",
      "'\\n---\\n'\n"
     ]
    }
   ],
   "source": [
    "import pprint\n",
    "\n",
    "inputs = {\n",
    "    \"messages\": [\n",
    "        # (\"user\", \"What are the different types of memory for agents outlined by Lilian Weng?\"), #happy path\n",
    "        # (\"user\", \"What does Lilian Weng think about prompt engineering?\"), #kind of happy path\n",
    "        # (\"user\", \"When it comes to prompt engineering, what does Lilian Weng think?\"), #happy path\n",
    "        (\"user\", \"What are some prompt engineering strategies outlined by Lilian Weng?\"), #unhappy path\n",
    "        # (\"user\", \"What does Lilian Weng think about the price of tea in China?\"), #unhappy path\n",
    "    ]\n",
    "}\n",
    "for output in graph.stream(inputs):\n",
    "    for key, value in output.items():\n",
    "        pprint.pprint(f\"Output from node '{key}':\")\n",
    "        pprint.pprint(\"---\")\n",
    "        pprint.pprint(value, indent=2, width=40, depth=None)\n",
    "    pprint.pprint(\"\\n---\\n\")"
   ]
  }
 ],
 "metadata": {
  "kernelspec": {
   "display_name": "Python 3",
   "language": "python",
   "name": "python3"
  },
  "language_info": {
   "codemirror_mode": {
    "name": "ipython",
    "version": 3
   },
   "file_extension": ".py",
   "mimetype": "text/x-python",
   "name": "python",
   "nbconvert_exporter": "python",
   "pygments_lexer": "ipython3",
   "version": "3.11.11"
  }
 },
 "nbformat": 4,
 "nbformat_minor": 2
}
